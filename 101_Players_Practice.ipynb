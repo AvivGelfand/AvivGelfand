{
  "nbformat": 4,
  "nbformat_minor": 0,
  "metadata": {
    "kernelspec": {
      "display_name": "Python 3",
      "language": "python",
      "name": "python3"
    },
    "language_info": {
      "codemirror_mode": {
        "name": "ipython",
        "version": 3
      },
      "file_extension": ".py",
      "mimetype": "text/x-python",
      "name": "python",
      "nbconvert_exporter": "python",
      "pygments_lexer": "ipython3",
      "version": "3.7.1"
    },
    "toc": {
      "base_numbering": 1,
      "nav_menu": {},
      "number_sections": true,
      "sideBar": true,
      "skip_h1_title": false,
      "title_cell": "Table of Contents",
      "title_sidebar": "Contents",
      "toc_cell": false,
      "toc_position": {},
      "toc_section_display": true,
      "toc_window_display": false
    },
    "colab": {
      "name": "101 - Players Practice.ipynb",
      "provenance": [],
      "include_colab_link": true
    }
  },
  "cells": [
    {
      "cell_type": "markdown",
      "metadata": {
        "id": "view-in-github",
        "colab_type": "text"
      },
      "source": [
        "<a href=\"https://colab.research.google.com/github/AvivGelfand/AvivGelfand/blob/main/101_Players_Practice.ipynb\" target=\"_parent\"><img src=\"https://colab.research.google.com/assets/colab-badge.svg\" alt=\"Open In Colab\"/></a>"
      ]
    },
    {
      "cell_type": "markdown",
      "metadata": {
        "id": "d8aXzF8-SPtL"
      },
      "source": [
        "# PlayCenter Data Analysis"
      ]
    },
    {
      "cell_type": "markdown",
      "metadata": {
        "id": "ge59o5bHSPtX"
      },
      "source": [
        "## About this Exercise"
      ]
    },
    {
      "cell_type": "markdown",
      "metadata": {
        "id": "Tc_vUcnSSPtc"
      },
      "source": [
        "* In this exercise we're going to use the PlayCenter database. PlayCenter is an imaginary online platform, allowing users to browse and download mobile games of different genres.\n",
        "* PlayCenter database consists of a single table: Players - which contains information about the company customers\n",
        "* It is recommended that you limit the dataset of each of the following exercises to the first 5 rows. "
      ]
    },
    {
      "cell_type": "markdown",
      "metadata": {
        "id": "1JyymhaLSPtg"
      },
      "source": [
        "## Download the Dataset"
      ]
    },
    {
      "cell_type": "code",
      "metadata": {
        "id": "IKToouUQSPtl"
      },
      "source": [
        "import pandas as pd"
      ],
      "execution_count": null,
      "outputs": []
    },
    {
      "cell_type": "code",
      "metadata": {
        "id": "VE892_NiSPto"
      },
      "source": [
        "players = pd.read_csv('https://raw.githubusercontent.com/RamKedem/Datasets/main/players.csv')"
      ],
      "execution_count": null,
      "outputs": []
    },
    {
      "cell_type": "markdown",
      "metadata": {
        "id": "zcaKyUfTSPts"
      },
      "source": [
        "## Tasks"
      ]
    },
    {
      "cell_type": "markdown",
      "metadata": {
        "id": "HkAuvfUFSPtu"
      },
      "source": [
        "### Basic SELECT Statements "
      ]
    },
    {
      "cell_type": "markdown",
      "metadata": {
        "id": "cEe07FAySPt8"
      },
      "source": [
        "1. Display all of the information inside players"
      ]
    },
    {
      "cell_type": "code",
      "source": [
        ""
      ],
      "metadata": {
        "id": "HpFuCWi_jJkP"
      },
      "execution_count": null,
      "outputs": []
    },
    {
      "cell_type": "markdown",
      "metadata": {
        "id": "BQduxYSkSPuN"
      },
      "source": [
        "2. Retrieve the last_name, first_name and city for each player"
      ]
    },
    {
      "cell_type": "code",
      "source": [
        ""
      ],
      "metadata": {
        "id": "j800QdFsjKBy"
      },
      "execution_count": null,
      "outputs": []
    },
    {
      "cell_type": "markdown",
      "metadata": {
        "id": "0VPdjUZfSPuR"
      },
      "source": [
        "3. Display the email_address, country, and street_address for each player"
      ]
    },
    {
      "cell_type": "code",
      "source": [
        ""
      ],
      "metadata": {
        "id": "JuBC1ODrjKf7"
      },
      "execution_count": null,
      "outputs": []
    },
    {
      "cell_type": "markdown",
      "metadata": {
        "id": "fBMq-W5GSPuY"
      },
      "source": [
        "4. Display the player_id, total_playing_minutes, and installed_games for each player. <br>\n",
        "The installed_games column represents the amount of games each player has purchased/installed"
      ]
    },
    {
      "cell_type": "markdown",
      "metadata": {
        "id": "wMM5TqqoSPub"
      },
      "source": [
        "5. Display the player_id, age_group, and total_playing_minutes for each player"
      ]
    },
    {
      "cell_type": "markdown",
      "metadata": {
        "id": "K_Xkbg9ASPuc"
      },
      "source": [
        "### Calculations, Concatenations and Column Aliases"
      ]
    },
    {
      "cell_type": "markdown",
      "metadata": {
        "id": "AkVgytCKSPue"
      },
      "source": [
        "In the following tasks - please provide a clear, easy to understand alias, for columns representing calculations or concatenations."
      ]
    },
    {
      "cell_type": "markdown",
      "metadata": {
        "id": "R2lMN_ZWSPue"
      },
      "source": [
        "6. <b> using the `assign()` method </b>, display for each player - the player_id, amount_spent_usd, and a new calculation representing the amount spent in euros, with exchange rate of 0.8. <br>\n",
        "The amount_spent_usd column represents the amount of money spent by each player in USD so if the current exchange rate is 0.8, the calculation would be amount_spent_usd * 0.8."
      ]
    },
    {
      "cell_type": "markdown",
      "metadata": {
        "id": "wKG6SQCPSPul"
      },
      "source": [
        "7. <b> Using the `insert()` method </b>, create a new calculation representing the average amount spent on each game (amount_spent_usd / installed_games). <br> Determine the best location for the new column on your own."
      ]
    },
    {
      "cell_type": "markdown",
      "metadata": {
        "id": "olPeywSQSPur"
      },
      "source": [
        "8. Create a new column on the table's far right side, representing the ratio between installed and uninstalled games (uninstalled_games / installed_games)"
      ]
    },
    {
      "cell_type": "markdown",
      "metadata": {
        "id": "mXYZcmvqSPuu"
      },
      "source": [
        "9. <b> Using the `assign()` method </b>, display the:\n",
        "* player_id\n",
        "* age_group\n",
        "* player’s first_name concatenated with his/hers last_name"
      ]
    },
    {
      "cell_type": "markdown",
      "metadata": {
        "id": "hmQy1ZZSSPuv"
      },
      "source": [
        "10. <b> Using the `assign()` method </b>, display the: \n",
        "* player_id\n",
        "* email_address \n",
        "* country concatenated with city and street_address\n",
        "* total playing time in hours (total_playing_minutes / 60)"
      ]
    },
    {
      "cell_type": "markdown",
      "metadata": {
        "id": "DvvSGdpwSPuz"
      },
      "source": [
        "11. Write a query to display the following string for each player :\n",
        "‘full name <b> preferred language </b> is <b> preferred_language </b>’ <br>\n",
        "(full name is the result of concatenating first_name and last_name) <br>\n",
        "for example: “Ram Kedem preferred language is: Hebrew”"
      ]
    },
    {
      "cell_type": "markdown",
      "metadata": {
        "id": "K3hpJAspSPu0"
      },
      "source": [
        "### Distinct"
      ]
    },
    {
      "cell_type": "markdown",
      "metadata": {
        "id": "IhrXly8nSPu2"
      },
      "source": [
        "12. Write a query to display the distinct values inside the preferred_language column"
      ]
    },
    {
      "cell_type": "markdown",
      "metadata": {
        "id": "15-TzXE2SPu3"
      },
      "source": [
        "13. Write a query to display the distinct list of values inside the gender column"
      ]
    },
    {
      "cell_type": "markdown",
      "metadata": {
        "id": "qIwzTC7LSPu5"
      },
      "source": [
        "14. Write a query to display the distinct list of values inside the age_group column"
      ]
    },
    {
      "cell_type": "markdown",
      "metadata": {
        "id": "nweTi6awSPu6"
      },
      "source": [
        "15. Write a query to display the distinct combination of gender and age_group columns"
      ]
    }
  ]
}